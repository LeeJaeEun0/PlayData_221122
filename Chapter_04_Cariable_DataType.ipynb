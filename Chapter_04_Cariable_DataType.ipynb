{
 "cells": [
  {
   "cell_type": "markdown",
   "id": "3bf40bf1",
   "metadata": {},
   "source": [
    "# 4. 변수와 자료형"
   ]
  },
  {
   "cell_type": "markdown",
   "id": "d110b073",
   "metadata": {},
   "source": [
    "## 4.1 변수"
   ]
  },
  {
   "cell_type": "code",
   "execution_count": 1,
   "id": "df1ce1e3",
   "metadata": {},
   "outputs": [
    {
     "data": {
      "text/plain": [
       "617.0"
      ]
     },
     "execution_count": 1,
     "metadata": {},
     "output_type": "execute_result"
    }
   ],
   "source": [
    "1234 * 1 / 2"
   ]
  },
  {
   "cell_type": "code",
   "execution_count": 2,
   "id": "73da6552",
   "metadata": {},
   "outputs": [
    {
     "data": {
      "text/plain": [
       "308.5"
      ]
     },
     "execution_count": 2,
     "metadata": {},
     "output_type": "execute_result"
    }
   ],
   "source": [
    "1234 * 1 / 4"
   ]
  },
  {
   "cell_type": "code",
   "execution_count": 3,
   "id": "b430b912",
   "metadata": {},
   "outputs": [
    {
     "data": {
      "text/plain": [
       "246.8"
      ]
     },
     "execution_count": 3,
     "metadata": {},
     "output_type": "execute_result"
    }
   ],
   "source": [
    "1234 * 1/5"
   ]
  },
  {
   "cell_type": "markdown",
   "id": "600abc3a",
   "metadata": {},
   "source": [
    "### 데이터를 변수에 할당"
   ]
  },
  {
   "cell_type": "markdown",
   "id": "490b1a3f",
   "metadata": {},
   "source": [
    "변수에 자료를 할당하고,  변수를 불러 값을 출력(반대는 상수 = 변하지 않는다 원주율 같은!)"
   ]
  },
  {
   "cell_type": "code",
   "execution_count": 9,
   "id": "993b368c",
   "metadata": {},
   "outputs": [
    {
     "name": "stdout",
     "output_type": "stream",
     "text": [
      "a==b의 결과는  False\n", # 비교연산
      "a=b의 결과 : a =  2  b =  2\n" # 값을 할당
     ]
    }
   ],
   "source": [
    "a,b= 1,2\n",
    "print(\"a==b의 결과는 \", a==b)\n",
    "\n",
    "a=b\n",
    "print(\"a=b의 결과 : a = \",a,\" b = \", b)"
   ]
  },
  {
   "cell_type": "code",
   "execution_count": 6,
   "id": "1d6430bf",
   "metadata": {},
   "outputs": [
    {
     "name": "stdout",
     "output_type": "stream",
     "text": [
      "a =  1 , b =  2 , c =  3 , d =  4\n"
     ]
    }
   ],
   "source": [
    "a=1\n",
    "b,c,d = 2,3,4\n",
    "print(\"a = \",a,\", b = \",b,\", c = \",c,\", d = \",d)"
   ]
  },
  {
   "cell_type": "markdown",
   "id": "9145bd4f",
   "metadata": {},
   "source": [
    "#### 1. 변수명은 문자, 숫자, 밑줄 기호를 이용하여 만들 수 있다. \n",
    "##### ex) a, book_1, my_student2, my_dog, _my_number, leebamtori\n",
    "#### 2. 숫자로 시작할 수 없다. \n",
    "##### ex) 5징어, 5늘도_ 좋은하루(x)\n",
    "#### 3. 대소문자 구별함\n",
    "##### Money != money\n",
    "#### 4. 공백은 불가\n",
    "##### ex) world cup(x)\n",
    "#### 5. 밑줄 이외의 기호는 불가\n",
    "##### ex) ! , @, %, ^ 등\n",
    "#### 6. 예약어는 사용 불가\n",
    "##### ex) True, False, and, or 등\n"
   ]
  },
  {
   "cell_type": "code",
   "execution_count": 11,
   "id": "611d1731",
   "metadata": {},
   "outputs": [
    {
     "name": "stdout",
     "output_type": "stream",
     "text": [
      "12340\n",
      "7777\n"
     ]
    }
   ],
   "source": [
    "abc = 12340\n",
    "print(abc)\n",
    "abc = 7777\n",
    "print(abc)"
   ]
  },
  {
   "cell_type": "code",
   "execution_count": 12,
   "id": "3f313d6f",
   "metadata": {},
   "outputs": [
    {
     "name": "stdout",
     "output_type": "stream",
     "text": [
      "12340\n",
      "6170.0\n",
      "3085.0\n",
      "2468.0\n"
     ]
    }
   ],
   "source": [
    "abc = 12340\n",
    "print(abc)\n",
    "print(abc * 1/2)\n",
    "print(abc * 1/4)\n",
    "print(abc * 1/5)"
   ]
  },
  {
   "cell_type": "code",
   "execution_count": 13,
   "id": "16f32520",
   "metadata": {},
   "outputs": [
    {
     "name": "stdout",
     "output_type": "stream",
     "text": [
      "5.5\n",
      "2.75\n",
      "2.2\n"
     ]
    }
   ],
   "source": [
    "abc = 11   #변수의 값을 변화, 아래의 식의 결과도 바뀜\n",
    "print(abc * 1/2)\n",
    "print(abc * 1/4)\n",
    "print(abc * 1/5)"
   ]
  },
  {
   "cell_type": "markdown",
   "id": "e846d506",
   "metadata": {},
   "source": [
    "## 4.2 문자열"
   ]
  },
  {
   "cell_type": "markdown",
   "id": "c543297e",
   "metadata": {},
   "source": [
    "### 큰 따옴표,  작은 따옴표 허용"
   ]
  },
  {
   "cell_type": "code",
   "execution_count": 15,
   "id": "a4c6a14a",
   "metadata": {},
   "outputs": [
    {
     "name": "stdout",
     "output_type": "stream",
     "text": [
      "String Test\n",
      "String Test\n"
     ]
    }
   ],
   "source": [
    "print(\"String Test\") #다른 언어에서 \"\"와 ''을 구분해서 사용했었던 것 같다. 문자와 문자열을 구분하는 경우!\n",
    "print('String Test')"
   ]
  },
  {
   "cell_type": "code",
   "execution_count": 16,
   "id": "69dd12c0",
   "metadata": {},
   "outputs": [
    {
     "name": "stdout",
     "output_type": "stream",
     "text": [
      "String Test\n",
      "String Test\n"
     ]
    }
   ],
   "source": [
    "string1 = \"String Test\" # 파이썬은 변수 타입응 지정하지 않고 선언!!!!\n",
    "string2 = 'String Test' \n",
    "print(string1)\n",
    "print(string2)"
   ]
  },
  {
   "cell_type": "markdown",
   "id": "7b1add60",
   "metadata": {},
   "source": [
    "### 타입은 str"
   ]
  },
  {
   "cell_type": "code",
   "execution_count": 19,
   "id": "64e3647b",
   "metadata": {},
   "outputs": [
    {
     "data": {
      "text/plain": [
       "str"
      ]
     },
     "execution_count": 19,
     "metadata": {},
     "output_type": "execute_result"
    }
   ],
   "source": [
    "type(string1)"
   ]
  },
  {
   "cell_type": "code",
   "execution_count": 20,
   "id": "af91befe",
   "metadata": {},
   "outputs": [
    {
     "data": {
      "text/plain": [
       "str"
      ]
     },
     "execution_count": 20,
     "metadata": {},
     "output_type": "execute_result"
    }
   ],
   "source": [
    "type(string2)"
   ]
  },
  {
   "cell_type": "markdown",
   "id": "a78d6349",
   "metadata": {},
   "source": [
    "### 큰 따옴표와 작은 따옴표 출력"
   ]
  },
  {
   "cell_type": "code",
   "execution_count": 23,
   "id": "26bf7757",
   "metadata": {},
   "outputs": [
    {
     "name": "stdout",
     "output_type": "stream",
     "text": [
      "This is a \"double\" quotation test\n",
      "This is a 'single' quotation test\n"
     ]
    }
   ],
   "source": [
    "string3 = 'This is a \"double\" quotation test' # 큰따옴표 출력 - '' 안에 \"\"\n",
    "string4 = \"This is a 'single' quotation test\" # 작은 따옴표 출력 - \"\"안에 ''\n",
    "print(string3)\n",
    "print(string4)"
   ]
  },
  {
   "cell_type": "markdown",
   "id": "a5294058",
   "metadata": {},
   "source": [
    "### 삼중따옴표 활용"
   ]
  },
  {
   "cell_type": "code",
   "execution_count": 32,
   "id": "aca7251d",
   "metadata": {
    "scrolled": true
   },
   "outputs": [
    {
     "name": "stdout",
     "output_type": "stream",
     "text": [
      "[삼중따옴표를 사용한 예]\n",
      "파이썬에는 삼중 따옴표로 여러행의 문자열을 입력할 수 있습니다.\n",
      "큰 따옴표(\")와 작은 따옴표(')도 입력할 수 있습니다.\n",
      "\n",
      "\n",
      "[삼중따옴표를 사용한 예]\n",
      "파이썬에는 삼중 따옴표로 여러행의 문자열을 입력할 수 있습니다.\n",
      "큰 따옴표(\")와 작은 따옴표(')도 입력할 수 있습니다.\n",
      "\n",
      "\n",
      "[2022년 11월 22일] 오늘도 행복하고 \n",
      "\n",
      "\n",
      "[2022년 11월 22일] 즐겁고 힘찬 하루!\n",
      "\n"
     ]
    }
   ],
   "source": [
    "# long ctrl+/를 눌르면 선택한 만큼 주석 처리 가능 #주석으로 간단한 설명 해주기\n",
    "long_string1 = '''[삼중따옴표를 사용한 예]\n",
    "파이썬에는 삼중 따옴표로 여러행의 문자열을 입력할 수 있습니다.\n",
    "큰 따옴표(\")와 작은 따옴표(')도 입력할 수 있습니다.\n",
    "'''\n",
    "long_string2 = \"\"\"\n",
    "[삼중따옴표를 사용한 예]\n",
    "파이썬에는 삼중 따옴표로 여러행의 문자열을 입력할 수 있습니다.\n",
    "큰 따옴표(\")와 작은 따옴표(')도 입력할 수 있습니다.\n",
    "\"\"\"\n",
    "\n",
    "long_string3 = '''\n",
    "[2022년 11월 22일] 오늘도 행복하고 \n",
    "'''\n",
    "\n",
    "long_string4 = \"\"\"\n",
    "[2022년 11월 22일] 즐겁고 힘찬 하루!\n",
    "\"\"\"\n",
    "\n",
    "print(long_string1)\n",
    "print(long_string2)\n",
    "print(long_string3)\n",
    "print(long_string4)"
   ]
  },
  {
   "cell_type": "markdown",
   "id": "5283388f",
   "metadata": {},
   "source": [
    "### 문자열 다루기"
   ]
  },
  {
   "cell_type": "markdown",
   "id": "1b6370b0",
   "metadata": {},
   "source": [
    "#### 문자열 더하기 곱셈"
   ]
  },
  {
   "cell_type": "code",
   "execution_count": 34,
   "id": "a393a5a0",
   "metadata": {},
   "outputs": [
    {
     "name": "stdout",
     "output_type": "stream",
     "text": [
      "Enjoy python\n"
     ]
    }
   ],
   "source": [
    "a = 'Enjoy ' #공백도 인식된다!\n",
    "b = 'python'\n",
    "c = a + b  # +는 숫자는 더하고, 문자는 연결한다\n",
    "print(c)"
   ]
  },
  {
   "cell_type": "code",
   "execution_count": 36,
   "id": "70701921",
   "metadata": {},
   "outputs": [
    {
     "name": "stdout",
     "output_type": "stream",
     "text": [
      "Enjoy Enjoy Enjoy \n"
     ]
    }
   ],
   "source": [
    "print(a * 3) # *기호는 숫자는 곱하고, 문자열은 반복 출력한다."
   ]
  },
  {
   "cell_type": "code",
   "execution_count": 38,
   "id": "2e4fba41",
   "metadata": {},
   "outputs": [
    {
     "name": "stdout",
     "output_type": "stream",
     "text": [
      "오전  오전  오전  \n"
     ]
    }
   ],
   "source": [
    "print(\"오전  \" * 3) #문자열 쓴대로 반복도 됨!"
   ]
  },
  {
   "cell_type": "markdown",
   "id": "46fe6f29",
   "metadata": {},
   "source": [
    "## 4.3 리스트"
   ]
  },
  {
   "cell_type": "markdown",
   "id": "f6c09e24",
   "metadata": {},
   "source": [
    "## 리스트 만들기"
   ]
  },
  {
   "cell_type": "markdown",
   "id": "6dceb695",
   "metadata": {},
   "source": [
    "### 데이터를 한꺼번에 처리하기 위해 묶어 놓으면 편하다"
   ]
  },
  {
   "cell_type": "code",
   "execution_count": 40,
   "id": "760238a3",
   "metadata": {},
   "outputs": [
    {
     "data": {
      "text/plain": [
       "[90, 95, 85, 80]"
      ]
     },
     "execution_count": 40,
     "metadata": {},
     "output_type": "execute_result"
    }
   ],
   "source": [
    "# 1번 학생의 국어, 영어, 수학, 과학 점수가 각가 90,95,85, 80\n",
    "student1 = [90, 95, 85, 80] # 리스트는 대괄호를 사용한다 # 리스트의 값을 대입\n",
    "student1"
   ]
  },
  {
   "cell_type": "markdown",
   "id": "3384c34d",
   "metadata": {},
   "source": [
    "### 리스트의 타입 및 출력"
   ]
  },
  {
   "cell_type": "code",
   "execution_count": 41,
   "id": "9730d420",
   "metadata": {},
   "outputs": [
    {
     "data": {
      "text/plain": [
       "list"
      ]
     },
     "execution_count": 41,
     "metadata": {},
     "output_type": "execute_result"
    }
   ],
   "source": [
    "type(student1) # 리스트의 타입은 리스트! "
   ]
  },
  {
   "cell_type": "markdown",
   "id": "3c40bba9",
   "metadata": {},
   "source": [
    "student1 = [90, 95, 85, 80] "
   ]
  },
  {
   "cell_type": "markdown",
   "id": "f28de56f",
   "metadata": {},
   "source": [
    "student1인덱스는 0부터 시작 0,1,2,3"
   ]
  },
  {
   "cell_type": "code",
   "execution_count": 42,
   "id": "b1a70ea0",
   "metadata": {},
   "outputs": [
    {
     "data": {
      "text/plain": [
       "90"
      ]
     },
     "execution_count": 42,
     "metadata": {},
     "output_type": "execute_result"
    }
   ],
   "source": [
    "student1[0] # student1의 0번째 값은 90을 출력해라"
   ]
  },
  {
   "cell_type": "code",
   "execution_count": 43,
   "id": "b8072837",
   "metadata": {},
   "outputs": [
    {
     "data": {
      "text/plain": [
       "95"
      ]
     },
     "execution_count": 43,
     "metadata": {},
     "output_type": "execute_result"
    }
   ],
   "source": [
    "student1[1] # student1의 1번째 값은 95을 출력해라"
   ]
  },
  {
   "cell_type": "code",
   "execution_count": 44,
   "id": "ff2604d2",
   "metadata": {},
   "outputs": [
    {
     "data": {
      "text/plain": [
       "85"
      ]
     },
     "execution_count": 44,
     "metadata": {},
     "output_type": "execute_result"
    }
   ],
   "source": [
    "student1[2] # student1의 2번째 값은 85을 출력해라"
   ]
  },
  {
   "cell_type": "code",
   "execution_count": 45,
   "id": "e887eeb3",
   "metadata": {},
   "outputs": [
    {
     "data": {
      "text/plain": [
       "80"
      ]
     },
     "execution_count": 45,
     "metadata": {},
     "output_type": "execute_result"
    }
   ],
   "source": [
    "student1[3] # student1의 3번째 값은 80을 출력해라"
   ]
  },
  {
   "cell_type": "code",
   "execution_count": 46,
   "id": "38659278",
   "metadata": {},
   "outputs": [
    {
     "ename": "IndexError",
     "evalue": "list index out of range",
     "output_type": "error",
     "traceback": [
      "\u001b[1;31m---------------------------------------------------------------------------\u001b[0m",
      "\u001b[1;31mIndexError\u001b[0m                                Traceback (most recent call last)",
      "\u001b[1;32m~\\AppData\\Local\\Temp\\ipykernel_15544\\3738661434.py\u001b[0m in \u001b[0;36m<module>\u001b[1;34m\u001b[0m\n\u001b[1;32m----> 1\u001b[1;33m \u001b[0mstudent1\u001b[0m\u001b[1;33m[\u001b[0m\u001b[1;36m4\u001b[0m\u001b[1;33m]\u001b[0m\u001b[1;33m\u001b[0m\u001b[1;33m\u001b[0m\u001b[0m\n\u001b[0m",
      "\u001b[1;31mIndexError\u001b[0m: list index out of range"
     ]
    }
   ],
   "source": [
    "student1[4] # student1의 4번째를 출력해라 - 0,1,2,3까지 4개임으로 [4]의 값은 5번째에 해당하는 값을 요청 ==> 없다\n",
    "            # 리스트의 인덱스는 0부터 시작하기때문에 오류발생  \n",
    "            # 0,1,2,3 에 각각 90, 95, 85, 80이 들어감"
   ]
  },
  {
   "cell_type": "code",
   "execution_count": 49,
   "id": "d766a07f",
   "metadata": {},
   "outputs": [
    {
     "data": {
      "text/plain": [
       "80"
      ]
     },
     "execution_count": 49,
     "metadata": {},
     "output_type": "execute_result"
    }
   ],
   "source": [
    "student1[-1] # 마지막 항목을 출력"
   ]
  },
  {
   "cell_type": "code",
   "execution_count": 50,
   "id": "919c6113",
   "metadata": {},
   "outputs": [
    {
     "data": {
      "text/plain": [
       "85"
      ]
     },
     "execution_count": 50,
     "metadata": {},
     "output_type": "execute_result"
    }
   ],
   "source": [
    "student1[-2] # 뒤에서 두번째값을 출력 #양수는 앞에서 부터, 음수는 뒤에서 부터"
   ]
  },
  {
   "cell_type": "code",
   "execution_count": 51,
   "id": "fc25d5bb",
   "metadata": {},
   "outputs": [
    {
     "data": {
      "text/plain": [
       "95"
      ]
     },
     "execution_count": 51,
     "metadata": {},
     "output_type": "execute_result"
    }
   ],
   "source": [
    "student1[-3] # 뒤에서 세번째값을 출력"
   ]
  },
  {
   "cell_type": "code",
   "execution_count": 52,
   "id": "8d0d8e2e",
   "metadata": {},
   "outputs": [
    {
     "data": {
      "text/plain": [
       "90"
      ]
     },
     "execution_count": 52,
     "metadata": {},
     "output_type": "execute_result"
    }
   ],
   "source": [
    "student1[-4] # 뒤에서 네번째값을 출력, 첫번째 값까지 출력되네!!! "
   ]
  },
  {
   "cell_type": "code",
   "execution_count": 57,
   "id": "6b1fb3bf",
   "metadata": {},
   "outputs": [
    {
     "data": {
      "text/plain": [
       "[90, 85]"
      ]
     },
     "execution_count": 57,
     "metadata": {},
     "output_type": "execute_result"
    }
   ],
   "source": [
    "student1[0:3:2] # 0부터 3-1인 2까지 중 2씩 건너라 = 인덱스 0,2 보임"
   ]
  },
  {
   "cell_type": "markdown",
   "id": "cd3040cf",
   "metadata": {},
   "source": [
    "### 새로운 데이터를 할당"
   ]
  },
  {
   "cell_type": "code",
   "execution_count": 58,
   "id": "b3d834ee",
   "metadata": {},
   "outputs": [
    {
     "data": {
      "text/plain": [
       "[90, 100, 85, 98]"
      ]
     },
     "execution_count": 58,
     "metadata": {},
     "output_type": "execute_result"
    }
   ],
   "source": [
    "student1[1] = 100 #두번쩨 항목에 새로운 값을 입력 90점대신 100이 출력 # = 는 여기서 대입을 의미\n",
    "student1"
   ]
  },
  {
   "cell_type": "code",
   "execution_count": 59,
   "id": "64898c37",
   "metadata": {},
   "outputs": [
    {
     "data": {
      "text/plain": [
       "[90, 100, 85, 98]"
      ]
     },
     "execution_count": 59,
     "metadata": {},
     "output_type": "execute_result"
    }
   ],
   "source": [
    "student1[3] = 98 # 세번째 값에 새로운 값을 넣음. \n",
    "student1"
   ]
  },
  {
   "cell_type": "markdown",
   "id": "b8954af8",
   "metadata": {},
   "source": [
    "### 데이터문자열"
   ]
  },
  {
   "cell_type": "markdown",
   "id": "2002f221",
   "metadata": {},
   "source": [
    "myFriends = ['James', 'Robert', 'Lisa', 'Mary']"
   ]
  },
  {
   "cell_type": "markdown",
   "id": "3798a1db",
   "metadata": {},
   "source": [
    "myFriends의 인덱스 [  0  ,    1  ,   2  ,  3  ]"
   ]
  },
  {
   "cell_type": "code",
   "execution_count": 60,
   "id": "d6598344",
   "metadata": {},
   "outputs": [
    {
     "data": {
      "text/plain": [
       "['James', 'Robert', 'Lisa', 'Mary']"
      ]
     },
     "execution_count": 60,
     "metadata": {},
     "output_type": "execute_result"
    }
   ],
   "source": [
    "myFriends = ['James', 'Robert', 'Lisa', 'Mary']\n",
    "myFriends"
   ]
  },
  {
   "cell_type": "code",
   "execution_count": 61,
   "id": "08a37073",
   "metadata": {},
   "outputs": [
    {
     "data": {
      "text/plain": [
       "'Lisa'"
      ]
     },
     "execution_count": 61,
     "metadata": {},
     "output_type": "execute_result"
    }
   ],
   "source": [
    "myFriends[2] # 세번째 항목 출력"
   ]
  },
  {
   "cell_type": "code",
   "execution_count": 62,
   "id": "2588a5bd",
   "metadata": {},
   "outputs": [
    {
     "data": {
      "text/plain": [
       "'Mary'"
      ]
     },
     "execution_count": 62,
     "metadata": {},
     "output_type": "execute_result"
    }
   ],
   "source": [
    "myFriends[3]"
   ]
  },
  {
   "cell_type": "code",
   "execution_count": 63,
   "id": "ca592bea",
   "metadata": {},
   "outputs": [
    {
     "data": {
      "text/plain": [
       "'Mary'"
      ]
     },
     "execution_count": 63,
     "metadata": {},
     "output_type": "execute_result"
    }
   ],
   "source": [
    "myFriends[-1] # 마지막 문자열 출력"
   ]
  },
  {
   "cell_type": "markdown",
   "id": "ebcc8644",
   "metadata": {},
   "source": [
    "### 다른 타입끼리도 생성가능"
   ]
  },
  {
   "cell_type": "markdown",
   "id": "6719f5ed",
   "metadata": {},
   "source": [
    "mixedList = [0,1,2,3, 'python', 'program', True, myFriends]"
   ]
  },
  {
   "cell_type": "markdown",
   "id": "0bcec3d9",
   "metadata": {},
   "source": [
    "#### 숫자 타입    -  0,1,2,3, \n",
    "#### 문자열 타입 - 'python', 'program', \n",
    "#### 불린 타입     - True, \n",
    "#### 리스트 타입  -  myFriends"
   ]
  },
  {
   "cell_type": "code",
   "execution_count": 64,
   "id": "db9dc4aa",
   "metadata": {},
   "outputs": [
    {
     "data": {
      "text/plain": [
       "[0, 1, 2, 3, 'python', 'program', True, ['James', 'Robert', 'Lisa', 'Mary']]"
      ]
     },
     "execution_count": 64,
     "metadata": {},
     "output_type": "execute_result"
    }
   ],
   "source": [
    "mixedList = [0,1,2,3, 'python', 'program', True, myFriends] #리스트는 주로 같은 타입만 저장가능했는데 - 차이점!\n",
    "mixedList"
   ]
  },
  {
   "cell_type": "markdown",
   "id": "bcc5a460",
   "metadata": {},
   "source": [
    "### 리스트 더하기와 곱하기"
   ]
  },
  {
   "cell_type": "code",
   "execution_count": 65,
   "id": "99e78f5e",
   "metadata": {},
   "outputs": [
    {
     "name": "stdout",
     "output_type": "stream",
     "text": [
      "[1, 2, 3, 4, 5, 6, 7, 8]\n"
     ]
    }
   ],
   "source": [
    "list_con1 = [1,2,3,4]\n",
    "list_con2 = [5,6,7,8]\n",
    "list_con = list_con1 + list_con2 # 리스트 연결한 값을 새로운 리스트에 삽입\n",
    "\n",
    "print(list_con)"
   ]
  },
  {
   "cell_type": "code",
   "execution_count": 66,
   "id": "0abe59eb",
   "metadata": {},
   "outputs": [
    {
     "name": "stdout",
     "output_type": "stream",
     "text": [
      "[1, 2, 3, 4, 1, 2, 3, 4, 1, 2, 3, 4]\n"
     ]
    }
   ],
   "source": [
    "list_con1 = [1,2,3,4]\n",
    "list_con = list_con1 * 3 # 리스트 반복한 값을 새로운 리스트에 삽입\n",
    "\n",
    "print(list_con)"
   ]
  },
  {
   "cell_type": "code",
   "execution_count": 67,
   "id": "1031727a",
   "metadata": {},
   "outputs": [
    {
     "data": {
      "text/plain": [
       "[1, 2, 3, 4]"
      ]
     },
     "execution_count": 67,
     "metadata": {},
     "output_type": "execute_result"
    }
   ],
   "source": [
    "list_con1"
   ]
  },
  {
   "cell_type": "code",
   "execution_count": 68,
   "id": "39230c13",
   "metadata": {},
   "outputs": [
    {
     "data": {
      "text/plain": [
       "[1, 2, 3, 4, 1, 2, 3, 4, 1, 2, 3, 4]"
      ]
     },
     "execution_count": 68,
     "metadata": {},
     "output_type": "execute_result"
    }
   ],
   "source": [
    "list_con1*3 # 반복한 값은 하나의 리스트 처럼 보여주는구나!"
   ]
  },
  {
   "cell_type": "markdown",
   "id": "6694a930",
   "metadata": {},
   "source": [
    "### 리스트 중 일부 항목 가져오기"
   ]
  },
  {
   "cell_type": "markdown",
   "id": "cf7c9205",
   "metadata": {},
   "source": [
    "리스트 [i_start,i_end]"
   ]
  },
  {
   "cell_type": "markdown",
   "id": "f9fe1108",
   "metadata": {},
   "source": [
    "각각 인덱스의 시작, 끝, 증가 범위를 지정하면 i_start부터 i_end-1까지 리스트 반환 생략하면 0, 끝, 1로 간주한다(평소에 생략됨)"
   ]
  },
  {
   "cell_type": "markdown",
   "id": "af36c27f",
   "metadata": {},
   "source": [
    " i_start 이상 i_end 미만으로 이해하기, 헷갈리는 부분이라서 주의 필요"
   ]
  },
  {
   "cell_type": "code",
   "execution_count": 89,
   "id": "af31a537",
   "metadata": {},
   "outputs": [
    {
     "name": "stdout",
     "output_type": "stream",
     "text": [
      "[0, 1, 2, 3, 4, 5, 6, 7, 8, 9]\n",
      "list_data[0:3]의 결과   [0, 1, 2]\n",
      "list_data[4:8]의 결과   [4, 5, 6, 7]\n",
      "list_data[:3]의 결과    [0, 1, 2]\n",
      "list_data[7:]의 결과    [7, 8, 9]\n",
      "list_data[::2]의 결과   [0, 2, 4, 6, 8]\n",
      "list_data[::3]의 결과   [0, 3, 6, 9]\n",
      "list_data[::4]의 결과   [0, 4, 8]\n"
     ]
    }
   ],
   "source": [
    "list_data = [0, 1, 2, 3, 4, 5, 6, 7, 8 ,9]\n",
    "print(list_data)\n",
    "print(\"list_data[0:3]의 결과  \",list_data[0:3])\n",
    "print(\"list_data[4:8]의 결과  \",list_data[4:8])\n",
    "print(\"list_data[:3]의 결과   \",list_data[:3]) \n",
    "print(\"list_data[7:]의 결과   \",list_data[7:])  \n",
    "print(\"list_data[::2]의 결과  \",list_data[::2]) # 처음부터 끝까지 2개만 보여줌 - 짝수만 출력 됨, 처음값 출력후 +2\n",
    "print(\"list_data[::3]의 결과  \",list_data[::3])\n",
    "print(\"list_data[::4]의 결과  \",list_data[::4])"
   ]
  },
  {
   "cell_type": "code",
   "execution_count": 91,
   "id": "4ebfb32d",
   "metadata": {},
   "outputs": [
    {
     "name": "stdout",
     "output_type": "stream",
     "text": [
      "~~ 퀴즈 ~~\n",
      "홀수만 출력하자        [1, 3, 5, 7, 9]\n",
      "홀수 중 1, 3, 5        [1, 3, 5]\n",
      "짝수만 출력하자        [0, 2, 4, 6, 8]\n",
      "짝수 중 2, 4, 6        [2, 4, 6]\n",
      "~~ 퀴즈2 ~~\n",
      "2의 배수를 출력하자    [2, 4, 6, 8]\n",
      "3의 배수를 출력하자    [3, 6, 9]\n",
      "4의 배수를 출력하자    [4, 8]\n",
      "5의 배수를 출력하자    [5]\n",
      "~~ 퀴즈2 - 응용 ~~\n",
      "5까지를 출력하자    [0, 1, 2, 3, 4, 5]\n"
     ]
    }
   ],
   "source": [
    "print(\"~~ 퀴즈 ~~\")\n",
    "print(\"홀수만 출력하자       \",list_data[1::2])\n",
    "print(\"홀수 중 1, 3, 5       \",list_data[1:6:2]) \n",
    "print(\"짝수만 출력하자       \",list_data[0::2])\n",
    "print(\"짝수 중 2, 4, 6       \",list_data[2:7:2])\n",
    "print(\"~~ 퀴즈2 ~~\")\n",
    "print(\"2의 배수를 출력하자   \",list_data[2::2])\n",
    "print(\"3의 배수를 출력하자   \",list_data[3::3])\n",
    "print(\"4의 배수를 출력하자   \",list_data[4::4])\n",
    "print(\"5의 배수를 출력하자   \",list_data[5::5])\n",
    "print(\"~~ 퀴즈2 - 응용 ~~\")\n",
    "print(\"5까지를 출력하자   \",list_data[:6:])"
   ]
  },
  {
   "cell_type": "markdown",
   "id": "981ed9a0",
   "metadata": {},
   "source": [
    "문자열도 인덱스를 사용할 수 있을까?"
   ]
  },
  {
   "cell_type": "markdown",
   "id": "b46e3e5a",
   "metadata": {},
   "source": [
    "답은 Yes!! 인덱스는 리스트 위치값(인덱스)을 호출하는 것, 내용을 찾으라고 하는 것이 아님"
   ]
  },
  {
   "cell_type": "code",
   "execution_count": 81,
   "id": "cad29af1",
   "metadata": {},
   "outputs": [
    {
     "name": "stdout",
     "output_type": "stream",
     "text": [
      "['a', 'b', 'c']\n",
      "list_data1[0:3]의 결과   ['a', 'b', 'c']\n",
      "list_data1[:3]의 결과    ['a', 'b', 'c']\n",
      "list_data1[0:]의 결과    ['a', 'b', 'c']\n",
      "list_data1[:]의 결과     ['a', 'b', 'c']\n"
     ]
    }
   ],
   "source": [
    "list_data1 = ['a','b','c'] \n",
    "print(list_data)\n",
    "print(\"list_data1[0:3]의 결과  \",list_data[0:3])\n",
    "print(\"list_data1[:3]의 결과   \",list_data[:3])\n",
    "print(\"list_data1[0:]의 결과   \",list_data[0:])\n",
    "print(\"list_data1[:]의 결과    \",list_data[:])"
   ]
  },
  {
   "cell_type": "markdown",
   "id": "25eaf3fb",
   "metadata": {},
   "source": [
    "### 리스트 항목에서 삭제하기"
   ]
  },
  {
   "cell_type": "code",
   "execution_count": 93,
   "id": "78d7f5e9",
   "metadata": {},
   "outputs": [
    {
     "name": "stdout",
     "output_type": "stream",
     "text": [
      "[0, 1, 2, 3, 4, 5, 7, 8, 9]\n",
      "[0, 1, 2, 3, 4, 5, 8, 9]\n",
      "[0, 1, 2, 3, 4, 5, 9]\n"
     ]
    }
   ],
   "source": [
    "print(list_data)\n",
    "del list_data[6] # 6이 삭제 된것을 확인 할 수 있음 _ 삭제 후 값이 당겨짐\n",
    "print(list_data)\n",
    "del list_data[6] # 7을 삭제하기 위해 인덱스 6번의 값인 7이 삭제됨\n",
    "print(list_data)"
   ]
  },
  {
   "cell_type": "markdown",
   "id": "2ed9cc19",
   "metadata": {},
   "source": [
    "### 리스트 항목의 존재 여부 확인하기"
   ]
  },
  {
   "cell_type": "markdown",
   "id": "a9ea8797",
   "metadata": {},
   "source": [
    "#### Bool 로 반환함"
   ]
  },
  {
   "cell_type": "code",
   "execution_count": 95,
   "id": "9aa754c0",
   "metadata": {
    "scrolled": true
   },
   "outputs": [
    {
     "name": "stdout",
     "output_type": "stream",
     "text": [
      "True\n",
      "True\n",
      "False\n",
      "False\n"
     ]
    }
   ],
   "source": [
    "# 안에 이 값이 있는지! - 내용물 탐색\n",
    "# 존재 여부를 물어으니까 있다==True, 없다==False\n",
    "list_data1 = [1,2,3,4,5]\n",
    "print(5 in list_data1) # 리스트 안에 있으면 True\n",
    "print(2 in list_data1) # 리스트 안에 있으면 True\n",
    "print(0 in list_data1) # 리스트 안에 있으면 False \n",
    "print(100 in list_data1) # 리스트 안에 있으면 False "
   ]
  },
  {
   "cell_type": "markdown",
   "id": "a1a3214b",
   "metadata": {},
   "source": [
    "### 리스트 메서드 활용하기"
   ]
  },
  {
   "cell_type": "markdown",
   "id": "1572c178",
   "metadata": {},
   "source": [
    "자료형.메서드() 변수형.메서드이름()"
   ]
  },
  {
   "cell_type": "code",
   "execution_count": 107,
   "id": "4e16ec74",
   "metadata": {},
   "outputs": [
    {
     "name": "stdout",
     "output_type": "stream",
     "text": [
      "['James', 'Robert', 'Lisa', 'Mary']\n",
      "Thmas 추가하기  :  ['James', 'Robert', 'Lisa', 'Mary', 'Thmas']\n",
      "Thmas 추가하기  :  ['James', 'Robert', 'Lisa', 'Mary', 'Thmas', 'Thmas']\n",
      "Haha 추가하기   :  ['James', 'Robert', 'Lisa', 'Mary', 'Thmas', 'Thmas', 'Haha']\n"
     ]
    }
   ],
   "source": [
    "myFriends = ['James','Robert','Lisa', 'Mary']\n",
    "print(myFriends)\n",
    "myFriends.append('Thmas') # 리스트에서 항목 하나를 마지막에 추가 #전핛생 번호는 맨 마지막에 넣는 것 처럼!\n",
    "print(\"Thmas 추가하기  : \",myFriends)\n",
    "myFriends.append('Thmas')\n",
    "print(\"Thmas 추가하기  : \", myFriends)\n",
    "myFriends.append('Haha')\n",
    "print(\"Haha 추가하기   : \", myFriends)"
   ]
  },
  {
   "cell_type": "code",
   "execution_count": 109,
   "id": "de81516d",
   "metadata": {},
   "outputs": [
    {
     "name": "stdout",
     "output_type": "stream",
     "text": [
      "['James', 'Robert', 'Lisa', 'Mary']\n",
      "Paul 2번째에(인덱스 1) 추가하기  :  ['James', 'Paul', 'Robert', 'Lisa', 'Mary']\n",
      "Haha 1번째에(인덱스 0) 추가하기  :  ['Haha', 'James', 'Paul', 'Robert', 'Lisa', 'Mary']\n"
     ]
    }
   ],
   "source": [
    "myFriends =['James','Robert','Lisa', 'Mary']\n",
    "print(myFriends)\n",
    "myFriends.insert(1,'Paul') # 리스트에서 특정 항목에 삽입 #특정 위치에 값을 넣는다! 2번째에\n",
    "print(\"Paul 2번째에(인덱스 1) 추가하기  : \",myFriends)\n",
    "myFriends.insert(0,'Haha') # 리스트에서 특정 항목에 삽입 #특정 위치에 값을 넣는다! 첫번째에\n",
    "print(\"Haha 1번째에(인덱스 0) 추가하기  : \",myFriends)"
   ]
  },
  {
   "cell_type": "code",
   "execution_count": 110,
   "id": "62213f2d",
   "metadata": {},
   "outputs": [
    {
     "name": "stdout",
     "output_type": "stream",
     "text": [
      "['James', 'Robert', 'Lisa', 'Mary']\n",
      "여러개 추가하기  :  ['James', 'Robert', 'Lisa', 'Mary', 'Laura', 'Betty']\n"
     ]
    }
   ],
   "source": [
    "myFriends =['James','Robert','Lisa', 'Mary']\n",
    "print(myFriends)\n",
    "myFriends.extend(['Laura','Betty']) # 항목 여러개를 마지막에 추가 #여러개 넣을때는 리스트화 시켜서 집어넣기\n",
    "print(\"여러개 추가하기  : \", myFriends)"
   ]
  },
  {
   "cell_type": "code",
   "execution_count": 112,
   "id": "79b6a280",
   "metadata": {},
   "outputs": [
    {
     "name": "stdout",
     "output_type": "stream",
     "text": [
      "['James', 'Robert', 'Lisa', 'Mary', 'James']\n",
      "James 제외하기  :  ['Robert', 'Lisa', 'Mary', 'James']\n",
      "단, 값이 여러개면 첫번째 값만 삭제\n",
      "James 제외하기  :  ['Robert', 'Lisa', 'Mary']\n"
     ]
    }
   ],
   "source": [
    "myFriends =['James','Robert','Lisa', 'Mary','James']\n",
    "print(myFriends)\n",
    "myFriends.remove('James') # 첫번째로 일치하는 항목을 리스트에서 제외\n",
    "print(\"James 제외하기  : \", myFriends)\n",
    "print(\"단, 값이 여러개면 첫번째 값만 삭제\")\n",
    "myFriends.remove('James') \n",
    "print(\"James 제외하기  : \", myFriends)"
   ]
  },
  {
   "cell_type": "markdown",
   "id": "8f4d3d99",
   "metadata": {},
   "source": [
    "앞에서 헷갈리는 부분 정리[오전 수업 내용 중 헷갈리는 부분 정리]"
   ]
  },
  {
   "cell_type": "code",
   "execution_count": 115,
   "id": "2aa33538",
   "metadata": {},
   "outputs": [
    {
     "name": "stdout",
     "output_type": "stream",
     "text": [
      "[1, 0, 3, 4, 5]\n",
      "[1, 2, 3, 4, 5, 6]\n"
     ]
    }
   ],
   "source": [
    "myNum1 = [1, 2, 3, 4, 5]\n",
    "myNum2 = [1, 2, 3, 4, 5]\n",
    "\n",
    "# 리스트에서 값을 갱신\n",
    "myNum1[1] = 0\n",
    "print(myNum1)\n",
    "# 리스트에서 값을 삽입\n",
    "myNum2.append(6)\n",
    "print(myNum2)"
   ]
  },
  {
   "cell_type": "code",
   "execution_count": 126,
   "id": "2ded46ed",
   "metadata": {},
   "outputs": [
    {
     "name": "stdout",
     "output_type": "stream",
     "text": [
      "['James', 'Robert', 'Lisa', 'Mary']\n",
      "리스트에서 삭제된 결과 :  ['James', 'Robert', 'Lisa']\n",
      "리스트에서 삭제된 숫자 :  Mary\n",
      "리스트에서 삭제된 결과 :  ['James', 'Robert']\n",
      "리스트에서 삭제된 숫자 :  Lisa\n"
     ]
    }
   ],
   "source": [
    "myFriends =['James','Robert','Lisa', 'Mary']\n",
    "print(myFriends)\n",
    "popFriends= myFriends.pop() # 마지막 항목을 제거한 후에 반환\n",
    "print(\"리스트에서 삭제된 결과 : \",myFriends) #실제 리스트에서 삭제된 것을 확인 가능!\n",
    "print(\"리스트에서 삭제된 숫자 : \",popFriends)\n",
    "popFriends= myFriends.pop(2) # pop를\n",
    "print(\"리스트에서 삭제된 결과 : \", myFriends)\n",
    "print(\"리스트에서 삭제된 숫자 : \",popFriends)"
   ]
  },
  {
   "cell_type": "markdown",
   "id": "cbf2af21",
   "metadata": {},
   "source": [
    "입력은 insert(), append()를 사용하자!"
   ]
  },
  {
   "cell_type": "code",
   "execution_count": 123,
   "id": "b817fb88",
   "metadata": {},
   "outputs": [
    {
     "name": "stdout",
     "output_type": "stream",
     "text": [
      "['James', 'Robert', 'Lisa', 'Mary']\n"
     ]
    },
    {
     "ename": "AttributeError",
     "evalue": "'list' object has no attribute 'push'",
     "output_type": "error",
     "traceback": [
      "\u001b[1;31m---------------------------------------------------------------------------\u001b[0m",
      "\u001b[1;31mAttributeError\u001b[0m                            Traceback (most recent call last)",
      "\u001b[1;32m~\\AppData\\Local\\Temp\\ipykernel_15544\\1018377496.py\u001b[0m in \u001b[0;36m<module>\u001b[1;34m\u001b[0m\n\u001b[0;32m      1\u001b[0m \u001b[0mmyFriends\u001b[0m \u001b[1;33m=\u001b[0m\u001b[1;33m[\u001b[0m\u001b[1;34m'James'\u001b[0m\u001b[1;33m,\u001b[0m\u001b[1;34m'Robert'\u001b[0m\u001b[1;33m,\u001b[0m\u001b[1;34m'Lisa'\u001b[0m\u001b[1;33m,\u001b[0m \u001b[1;34m'Mary'\u001b[0m\u001b[1;33m]\u001b[0m\u001b[1;33m\u001b[0m\u001b[1;33m\u001b[0m\u001b[0m\n\u001b[0;32m      2\u001b[0m \u001b[0mprint\u001b[0m\u001b[1;33m(\u001b[0m\u001b[0mmyFriends\u001b[0m\u001b[1;33m)\u001b[0m\u001b[1;33m\u001b[0m\u001b[1;33m\u001b[0m\u001b[0m\n\u001b[1;32m----> 3\u001b[1;33m \u001b[0mpopFriends\u001b[0m\u001b[1;33m=\u001b[0m \u001b[0mmyFriends\u001b[0m\u001b[1;33m.\u001b[0m\u001b[0mpush\u001b[0m\u001b[1;33m(\u001b[0m\u001b[1;34m'Lisa'\u001b[0m\u001b[1;33m)\u001b[0m\u001b[1;33m\u001b[0m\u001b[1;33m\u001b[0m\u001b[0m\n\u001b[0m\u001b[0;32m      4\u001b[0m \u001b[0mprint\u001b[0m\u001b[1;33m(\u001b[0m\u001b[0mmyFriends\u001b[0m\u001b[1;33m)\u001b[0m\u001b[1;33m\u001b[0m\u001b[1;33m\u001b[0m\u001b[0m\n",
      "\u001b[1;31mAttributeError\u001b[0m: 'list' object has no attribute 'push'"
     ]
    }
   ],
   "source": [
    "myFriends =['James','Robert','Lisa', 'Mary']\n",
    "print(myFriends)\n",
    "popFriends= myFriends.push('Lisa') # pop이 들어가서 push도 가능할 것 같았지만 아니다!\n",
    "print(myFriends)"
   ]
  },
  {
   "cell_type": "code",
   "execution_count": 120,
   "id": "e50b3a27",
   "metadata": {},
   "outputs": [
    {
     "name": "stdout",
     "output_type": "stream",
     "text": [
      "['James', 'Robert', 'Lisa', 'Mary', 'James']\n",
      "2\n"
     ]
    }
   ],
   "source": [
    "myFriends =['James','Robert','Lisa', 'Mary']\n",
    "print(myFriends)\n",
    "indexFriends= myFriends.index('Lisa') # 리사의 인덱스를 출력\n",
    "print(indexFriends)"
   ]
  },
  {
   "cell_type": "code",
   "execution_count": 122,
   "id": "40b5bb9b",
   "metadata": {},
   "outputs": [
    {
     "name": "stdout",
     "output_type": "stream",
     "text": [
      "['James', 'Robert', 'Lisa', 'Mary', 'Lisa']\n",
      "2\n"
     ]
    }
   ],
   "source": [
    "myFriends =['James','Robert','Lisa', 'Mary','Lisa']\n",
    "print(myFriends)\n",
    "LisaCount= myFriends.count('Lisa') #리사의 개수를 출력\n",
    "print(LisaCount)"
   ]
  },
  {
   "cell_type": "code",
   "execution_count": 128,
   "id": "6d460eba",
   "metadata": {},
   "outputs": [
    {
     "name": "stdout",
     "output_type": "stream",
     "text": [
      "['James', 'Robert', 'Lisa', 'Mary']\n",
      "['James', 'Lisa', 'Mary', 'Robert']\n"
     ]
    }
   ],
   "source": [
    "myFriends =['James','Robert','Lisa', 'Mary']\n",
    "print(myFriends)\n",
    "myFriends.sort() # 정렬하기 # 오름차순\n",
    "print(myFriends)"
   ]
  },
  {
   "cell_type": "code",
   "execution_count": 129,
   "id": "ff6bcba5",
   "metadata": {},
   "outputs": [
    {
     "name": "stdout",
     "output_type": "stream",
     "text": [
      "['James', 'Robert', 'Lisa', 'Mary']\n",
      "['Mary', 'Lisa', 'Robert', 'James']\n"
     ]
    }
   ],
   "source": [
    "myFriends =['James','Robert','Lisa', 'Mary']\n",
    "print(myFriends)\n",
    "myFriends.reverse() #역순으로 바꾸기\n",
    "print(myFriends)"
   ]
  },
  {
   "cell_type": "markdown",
   "id": "c6f81bf7",
   "metadata": {},
   "source": [
    "## 4.4 튜플"
   ]
  },
  {
   "cell_type": "markdown",
   "id": "6e993d38",
   "metadata": {},
   "source": [
    "## 튜플 만들기"
   ]
  },
  {
   "cell_type": "markdown",
   "id": "ddbaf02c",
   "metadata": {},
   "source": [
    "### 리스트와 유사하나 항목 변경 불가능"
   ]
  },
  {
   "cell_type": "markdown",
   "id": "c2da19c2",
   "metadata": {},
   "source": [
    "리스트는 [대괄호] 튜플은 (소괄호)"
   ]
  },
  {
   "cell_type": "markdown",
   "id": "3dc82a16",
   "metadata": {},
   "source": [
    "* 보통 선택형 조건은 []를 사용하고 고정조건은 ()을 사용"
   ]
  },
  {
   "cell_type": "code",
   "execution_count": 130,
   "id": "85cb3cf3",
   "metadata": {},
   "outputs": [
    {
     "data": {
      "text/plain": [
       "(1, 2, 3, 4)"
      ]
     },
     "execution_count": 130,
     "metadata": {},
     "output_type": "execute_result"
    }
   ],
   "source": [
    "tuple1 = (1,2,3,4)\n",
    "tuple1"
   ]
  },
  {
   "cell_type": "markdown",
   "id": "ee82822b",
   "metadata": {},
   "source": [
    "### 튜플의 타입"
   ]
  },
  {
   "cell_type": "code",
   "execution_count": 132,
   "id": "59ad9365",
   "metadata": {},
   "outputs": [
    {
     "data": {
      "text/plain": [
       "tuple"
      ]
     },
     "execution_count": 132,
     "metadata": {},
     "output_type": "execute_result"
    }
   ],
   "source": [
    "type(tuple1)"
   ]
  },
  {
   "cell_type": "code",
   "execution_count": 137,
   "id": "5865c894",
   "metadata": {},
   "outputs": [
    {
     "data": {
      "text/plain": [
       "2"
      ]
     },
     "execution_count": 137,
     "metadata": {},
     "output_type": "execute_result"
    }
   ],
   "source": [
    "tuple1[1] # 튜플에 인덱스 값을 삽입."
   ]
  },
  {
   "cell_type": "markdown",
   "id": "463ddac6",
   "metadata": {},
   "source": [
    "### 소괄호 없이도 생성가능 (이왕이면 소괄호를 쓰자!)"
   ]
  },
  {
   "cell_type": "code",
   "execution_count": 138,
   "id": "f96ec486",
   "metadata": {},
   "outputs": [
    {
     "name": "stdout",
     "output_type": "stream",
     "text": [
      "(5, 6, 7, 8)\n"
     ]
    }
   ],
   "source": [
    "tuple2 = 5,6,7,8\n",
    "print(tuple2)"
   ]
  },
  {
   "cell_type": "code",
   "execution_count": 139,
   "id": "bb12d82d",
   "metadata": {},
   "outputs": [
    {
     "data": {
      "text/plain": [
       "tuple"
      ]
     },
     "execution_count": 139,
     "metadata": {},
     "output_type": "execute_result"
    }
   ],
   "source": [
    "type(tuple2)"
   ]
  },
  {
   "cell_type": "markdown",
   "id": "c788eb5d",
   "metadata": {},
   "source": [
    "### 인자가 1개 밖에 없는 튜플 생성"
   ]
  },
  {
   "cell_type": "markdown",
   "id": "79cccd9c",
   "metadata": {},
   "source": [
    "입력한 후에 콤마(,)추가 필요"
   ]
  },
  {
   "cell_type": "code",
   "execution_count": 140,
   "id": "3d36db7f",
   "metadata": {},
   "outputs": [
    {
     "name": "stdout",
     "output_type": "stream",
     "text": [
      "(3,)\n",
      "(10,)\n"
     ]
    }
   ],
   "source": [
    "tuple3 = (3,) # 반드시 쉼표 ( n , ) 필요\n",
    "tuple4 = 10 , # 반드시 쉼표 ( n , ) 필요\n",
    "print(tuple3)\n",
    "print(tuple4)"
   ]
  },
  {
   "cell_type": "markdown",
   "id": "07dc74af",
   "metadata": {},
   "source": [
    "## 튜플 다루기"
   ]
  },
  {
   "cell_type": "markdown",
   "id": "f0643faf",
   "metadata": {},
   "source": [
    "### 튜플변경 및 삭제 불가"
   ]
  },
  {
   "cell_type": "markdown",
   "id": "f4f9ee96",
   "metadata": {},
   "source": [
    "#### 변경을 하면 안되는 값을 보호하기 위해 튜플을 사용 + 효율성"
   ]
  },
  {
   "cell_type": "code",
   "execution_count": 142,
   "id": "523eb101",
   "metadata": {},
   "outputs": [
    {
     "ename": "TypeError",
     "evalue": "'tuple' object does not support item assignment",
     "output_type": "error",
     "traceback": [
      "\u001b[1;31m---------------------------------------------------------------------------\u001b[0m",
      "\u001b[1;31mTypeError\u001b[0m                                 Traceback (most recent call last)",
      "\u001b[1;32m~\\AppData\\Local\\Temp\\ipykernel_15544\\4046642233.py\u001b[0m in \u001b[0;36m<module>\u001b[1;34m\u001b[0m\n\u001b[0;32m      1\u001b[0m \u001b[0mtuple5\u001b[0m \u001b[1;33m=\u001b[0m \u001b[1;33m(\u001b[0m\u001b[1;36m1\u001b[0m\u001b[1;33m,\u001b[0m\u001b[1;36m2\u001b[0m\u001b[1;33m,\u001b[0m\u001b[1;36m3\u001b[0m\u001b[1;33m,\u001b[0m\u001b[1;36m4\u001b[0m\u001b[1;33m)\u001b[0m\u001b[1;33m\u001b[0m\u001b[1;33m\u001b[0m\u001b[0m\n\u001b[1;32m----> 2\u001b[1;33m \u001b[0mtuple5\u001b[0m\u001b[1;33m[\u001b[0m\u001b[1;36m1\u001b[0m\u001b[1;33m]\u001b[0m \u001b[1;33m=\u001b[0m\u001b[1;36m5\u001b[0m\u001b[1;33m\u001b[0m\u001b[1;33m\u001b[0m\u001b[0m\n\u001b[0m",
      "\u001b[1;31mTypeError\u001b[0m: 'tuple' object does not support item assignment"
     ]
    }
   ],
   "source": [
    "tuple5 = (1,2,3,4)\n",
    "tuple5[1] = 5 # 한번 생성된 튜플의 요소는 변경되지 않음"
   ]
  },
  {
   "cell_type": "code",
   "execution_count": 143,
   "id": "46b7992e",
   "metadata": {},
   "outputs": [
    {
     "ename": "TypeError",
     "evalue": "'tuple' object doesn't support item deletion",
     "output_type": "error",
     "traceback": [
      "\u001b[1;31m---------------------------------------------------------------------------\u001b[0m",
      "\u001b[1;31mTypeError\u001b[0m                                 Traceback (most recent call last)",
      "\u001b[1;32m~\\AppData\\Local\\Temp\\ipykernel_15544\\3501664671.py\u001b[0m in \u001b[0;36m<module>\u001b[1;34m\u001b[0m\n\u001b[1;32m----> 1\u001b[1;33m \u001b[1;32mdel\u001b[0m \u001b[0mtuple5\u001b[0m\u001b[1;33m[\u001b[0m\u001b[1;36m1\u001b[0m\u001b[1;33m]\u001b[0m\u001b[1;33m\u001b[0m\u001b[1;33m\u001b[0m\u001b[0m\n\u001b[0m",
      "\u001b[1;31mTypeError\u001b[0m: 'tuple' object doesn't support item deletion"
     ]
    }
   ],
   "source": [
    "del tuple5[1] # 한번 생성된 튜플 요소는 삭제 되지 않음"
   ]
  },
  {
   "cell_type": "markdown",
   "id": "acdd330f",
   "metadata": {},
   "source": [
    "### 변경되지 않는 메서트는 리스트와 동일하게 사용가능"
   ]
  },
  {
   "cell_type": "code",
   "execution_count": 148,
   "id": "2e31cd16",
   "metadata": {},
   "outputs": [
    {
     "data": {
      "text/plain": [
       "2"
      ]
     },
     "execution_count": 148,
     "metadata": {},
     "output_type": "execute_result"
    }
   ],
   "source": [
    "tuple6 = ('a','b', 'c', 'd','e','f')\n",
    "tuple6.index('c')"
   ]
  },
  {
   "cell_type": "code",
   "execution_count": 150,
   "id": "933b9397",
   "metadata": {},
   "outputs": [
    {
     "data": {
      "text/plain": [
       "3"
      ]
     },
     "execution_count": 150,
     "metadata": {},
     "output_type": "execute_result"
    }
   ],
   "source": [
    "tuple6 = ('a','a','a','b','b','b', 'c', 'd','e','f')\n",
    "tuple6.count('a')"
   ]
  },
  {
   "cell_type": "markdown",
   "id": "ca623e62",
   "metadata": {},
   "source": [
    "## 4.5 세트"
   ]
  },
  {
   "cell_type": "markdown",
   "id": "f4bc19ab",
   "metadata": {},
   "source": [
    "## 세트 만들기"
   ]
  },
  {
   "cell_type": "markdown",
   "id": "a586f324",
   "metadata": {},
   "source": [
    "### 세트는 {중괄호} 표기"
   ]
  },
  {
   "cell_type": "code",
   "execution_count": 153,
   "id": "50c2e995",
   "metadata": {},
   "outputs": [
    {
     "name": "stdout",
     "output_type": "stream",
     "text": [
      "{1, 2, 3}\n",
      "{1, 2, 3, 4}\n"
     ]
    }
   ],
   "source": [
    "set1 = {1,2,3}     # 중복 불가능\n",
    "set2 = {1,1,2,3,4}\n",
    "print(set1)\n",
    "print(set2)"
   ]
  },
  {
   "cell_type": "code",
   "execution_count": 154,
   "id": "c5e2bd1b",
   "metadata": {},
   "outputs": [
    {
     "data": {
      "text/plain": [
       "set"
      ]
     },
     "execution_count": 154,
     "metadata": {},
     "output_type": "execute_result"
    }
   ],
   "source": [
    "type(set1)"
   ]
  },
  {
   "cell_type": "markdown",
   "id": "9972016d",
   "metadata": {},
   "source": [
    "## 세트의 교집합, 합집합, 차집합 구하기"
   ]
  },
  {
   "cell_type": "code",
   "execution_count": 155,
   "id": "e4fe1e0f",
   "metadata": {},
   "outputs": [
    {
     "data": {
      "text/plain": [
       "{4, 5}"
      ]
     },
     "execution_count": 155,
     "metadata": {},
     "output_type": "execute_result"
    }
   ],
   "source": [
    "A = {1,2,3,4,5}         # Set A\n",
    "B = {4,5,6,7,8,9,10}    # Set B\n",
    "A.intersection(B) #집합A에 대한 집합 B의 교집합"
   ]
  },
  {
   "cell_type": "code",
   "execution_count": 156,
   "id": "56bb2d0b",
   "metadata": {},
   "outputs": [
    {
     "data": {
      "text/plain": [
       "{1, 2, 3, 4, 5, 6, 7, 8, 9, 10}"
      ]
     },
     "execution_count": 156,
     "metadata": {},
     "output_type": "execute_result"
    }
   ],
   "source": [
    "A.union(B) #집합 A에 대한 집합 B의 합집합"
   ]
  },
  {
   "cell_type": "code",
   "execution_count": 157,
   "id": "bd0a7e02",
   "metadata": {},
   "outputs": [
    {
     "data": {
      "text/plain": [
       "{1, 2, 3}"
      ]
     },
     "execution_count": 157,
     "metadata": {},
     "output_type": "execute_result"
    }
   ],
   "source": [
    "A.difference(B) #집합 A에 대한 집합 B의 차집합 (A-B)"
   ]
  },
  {
   "cell_type": "markdown",
   "id": "2602b991",
   "metadata": {},
   "source": [
    "### 연산자로 쉽게 하기"
   ]
  },
  {
   "cell_type": "code",
   "execution_count": 158,
   "id": "65cbe6d3",
   "metadata": {},
   "outputs": [
    {
     "data": {
      "text/plain": [
       "{4, 5}"
      ]
     },
     "execution_count": 158,
     "metadata": {},
     "output_type": "execute_result"
    }
   ],
   "source": [
    "A = {1,2,3,4,5}         # Set A\n",
    "B = {4,5,6,7,8,9,10}    # Set B\n",
    "A&B #집합A에 대한 집합 B의 교집합"
   ]
  },
  {
   "cell_type": "code",
   "execution_count": 159,
   "id": "68c05886",
   "metadata": {},
   "outputs": [
    {
     "data": {
      "text/plain": [
       "{1, 2, 3, 4, 5, 6, 7, 8, 9, 10}"
      ]
     },
     "execution_count": 159,
     "metadata": {},
     "output_type": "execute_result"
    }
   ],
   "source": [
    "A|B #집합 A에 대한 집합 B의 합집합"
   ]
  },
  {
   "cell_type": "code",
   "execution_count": 160,
   "id": "73800eff",
   "metadata": {},
   "outputs": [
    {
     "data": {
      "text/plain": [
       "{1, 2, 3}"
      ]
     },
     "execution_count": 160,
     "metadata": {},
     "output_type": "execute_result"
    }
   ],
   "source": [
    "A - B #집합 A에 대한 집합 B의 차집합 (A-B)"
   ]
  },
  {
   "cell_type": "markdown",
   "id": "47f930a4",
   "metadata": {},
   "source": [
    "## 리스트, 튜플, 세트 간 타입 변환"
   ]
  },
  {
   "cell_type": "markdown",
   "id": "115277c0",
   "metadata": {},
   "source": [
    "list(), tuple(), set()은 서로 변환 가능 - 값이 변화하지 않음, 타입만 바뀜"
   ]
  },
  {
   "cell_type": "code",
   "execution_count": 161,
   "id": "cf8ac0fb",
   "metadata": {},
   "outputs": [],
   "source": [
    "a = [1,2,3,4,5]"
   ]
  },
  {
   "cell_type": "code",
   "execution_count": 163,
   "id": "4cd8000a",
   "metadata": {},
   "outputs": [
    {
     "data": {
      "text/plain": [
       "list"
      ]
     },
     "execution_count": 163,
     "metadata": {},
     "output_type": "execute_result"
    }
   ],
   "source": [
    "type(a)"
   ]
  },
  {
   "cell_type": "markdown",
   "id": "2f59881a",
   "metadata": {},
   "source": [
    "### 튜플로 변환"
   ]
  },
  {
   "cell_type": "code",
   "execution_count": 164,
   "id": "ea811b33",
   "metadata": {},
   "outputs": [
    {
     "data": {
      "text/plain": [
       "(1, 2, 3, 4, 5)"
      ]
     },
     "execution_count": 164,
     "metadata": {},
     "output_type": "execute_result"
    }
   ],
   "source": [
    "b = tuple(a)\n",
    "b"
   ]
  },
  {
   "cell_type": "code",
   "execution_count": 168,
   "id": "b579dffe",
   "metadata": {},
   "outputs": [
    {
     "data": {
      "text/plain": [
       "tuple"
      ]
     },
     "execution_count": 168,
     "metadata": {},
     "output_type": "execute_result"
    }
   ],
   "source": [
    "type(a) #  a는 리스트, b는 튜플의 형태(a를 튜플로 변환한 값을 저장한 b)\n",
    "type(b) # 한줄씩만 쓰는데는 이유가 있다!"
   ]
  },
  {
   "cell_type": "markdown",
   "id": "9c9e8fe6",
   "metadata": {},
   "source": [
    "### 세트로 변환"
   ]
  },
  {
   "cell_type": "code",
   "execution_count": 170,
   "id": "56731b9c",
   "metadata": {},
   "outputs": [
    {
     "data": {
      "text/plain": [
       "{1, 2, 3, 4, 5}"
      ]
     },
     "execution_count": 170,
     "metadata": {},
     "output_type": "execute_result"
    }
   ],
   "source": [
    "c = set(a) # 리스트인 a를 set로 변환해 c에 저장\n",
    "c"
   ]
  },
  {
   "cell_type": "code",
   "execution_count": 171,
   "id": "c8ab091b",
   "metadata": {},
   "outputs": [
    {
     "data": {
      "text/plain": [
       "set"
      ]
     },
     "execution_count": 171,
     "metadata": {},
     "output_type": "execute_result"
    }
   ],
   "source": [
    "type(c)"
   ]
  },
  {
   "cell_type": "markdown",
   "id": "159e9b72",
   "metadata": {},
   "source": [
    "### 리스트로 변환"
   ]
  },
  {
   "cell_type": "code",
   "execution_count": 172,
   "id": "ea9d75be",
   "metadata": {},
   "outputs": [
    {
     "data": {
      "text/plain": [
       "[1, 2, 3, 4, 5]"
      ]
     },
     "execution_count": 172,
     "metadata": {},
     "output_type": "execute_result"
    }
   ],
   "source": [
    "list(b) # 튜플인 b를 리스트로"
   ]
  },
  {
   "cell_type": "code",
   "execution_count": 173,
   "id": "4e0e0b05",
   "metadata": {},
   "outputs": [
    {
     "data": {
      "text/plain": [
       "[1, 2, 3, 4, 5]"
      ]
     },
     "execution_count": 173,
     "metadata": {},
     "output_type": "execute_result"
    }
   ],
   "source": [
    "list(c) #세트인 c를 리스트로"
   ]
  },
  {
   "cell_type": "markdown",
   "id": "7e3b6638",
   "metadata": {},
   "source": [
    "## 4.6 딕셔너리"
   ]
  },
  {
   "cell_type": "markdown",
   "id": "dfed0bec",
   "metadata": {},
   "source": [
    "## 딕셔너리 만들기"
   ]
  },
  {
   "cell_type": "markdown",
   "id": "60a4c5db",
   "metadata": {},
   "source": [
    "딕셔너리\n",
    ">1. 중괄호로 표현한다.\n",
    ">2. 키(key)와 값(value)으로 나누어져있다.\n",
    ">3. 인덱스 대신 키 값을 사용한다."
   ]
  },
  {
   "cell_type": "code",
   "execution_count": 176,
   "id": "da1a71d7",
   "metadata": {},
   "outputs": [
    {
     "data": {
      "text/plain": [
       "{'영국': '런던', '프랑스': '파리', '스위스': '베른', '호주': '멜버른', '덴마크': '코펜하겐'}"
      ]
     },
     "execution_count": 176,
     "metadata": {},
     "output_type": "execute_result"
    }
   ],
   "source": [
    "country_capital = {\"영국\":\"런던\",\"프랑스\":\"파리\",\"스위스\":\"베른\",\"호주\":\"멜버른\",\"덴마크\":\"코펜하겐\"} # 쉼표는 개수, 콜론은 키와 값 구분\n",
    "country_capital # 딕셔너리의 {키: 값}"
   ]
  },
  {
   "cell_type": "markdown",
   "id": "7a1932ae",
   "metadata": {},
   "source": [
    "### 딕셔너리 타입"
   ]
  },
  {
   "cell_type": "code",
   "execution_count": 177,
   "id": "475c3aeb",
   "metadata": {},
   "outputs": [
    {
     "data": {
      "text/plain": [
       "dict"
      ]
     },
     "execution_count": 177,
     "metadata": {},
     "output_type": "execute_result"
    }
   ],
   "source": [
    "type(country_capital)"
   ]
  },
  {
   "cell_type": "markdown",
   "id": "7c959838",
   "metadata": {},
   "source": [
    "### 값(value) 구하기"
   ]
  },
  {
   "cell_type": "code",
   "execution_count": 178,
   "id": "f71b81c0",
   "metadata": {},
   "outputs": [
    {
     "data": {
      "text/plain": [
       "'런던'"
      ]
     },
     "execution_count": 178,
     "metadata": {},
     "output_type": "execute_result"
    }
   ],
   "source": [
    "country_capital[\"영국\"] #키를 넣으면 값이 나온다"
   ]
  },
  {
   "cell_type": "markdown",
   "id": "a0325e33",
   "metadata": {},
   "source": [
    "### 키(key) 값으로 호출한다."
   ]
  },
  {
   "cell_type": "code",
   "execution_count": 179,
   "id": "32ef89ad",
   "metadata": {},
   "outputs": [
    {
     "data": {
      "text/plain": [
       "{1: '버스', 3: '비행기', 4: '택시', 5: '자전거'}"
      ]
     },
     "execution_count": 179,
     "metadata": {},
     "output_type": "execute_result"
    }
   ],
   "source": [
    "dict_data1 = {1:\"버스\", 3:\"비행기\", 4:\"택시\",5:\"자전거\"}\n",
    "dict_data1"
   ]
  },
  {
   "cell_type": "code",
   "execution_count": 180,
   "id": "a2311fc1",
   "metadata": {},
   "outputs": [
    {
     "data": {
      "text/plain": [
       "'비행기'"
      ]
     },
     "execution_count": 180,
     "metadata": {},
     "output_type": "execute_result"
    }
   ],
   "source": [
    "dict_data1[3] # 순서가 아닌 키와 연관"
   ]
  },
  {
   "cell_type": "markdown",
   "id": "d4c1392d",
   "metadata": {},
   "source": [
    "##### 순서와 연관 - 리스트 사용하기\n",
    "##### 내용과 연관 - 딕셔너리 사용하기"
   ]
  },
  {
   "cell_type": "markdown",
   "id": "6d87e13e",
   "metadata": {},
   "source": [
    "### 키와 값이 모두 숫자"
   ]
  },
  {
   "cell_type": "code",
   "execution_count": 183,
   "id": "2901d1dc",
   "metadata": {},
   "outputs": [
    {
     "name": "stdout",
     "output_type": "stream",
     "text": [
      "{1: 10, 2: 20, 3: 30, 4: 40, 5: 50}\n",
      "key = 4, value =  40\n"
     ]
    }
   ],
   "source": [
    "dict_data2 = {1:10, 2:20, 3:30, 4: 40, 5:50}\n",
    "print(dict_data2)\n",
    "print(\"key = 4, value = \", dict_data2[4]) "
   ]
  },
  {
   "cell_type": "markdown",
   "id": "b778dcbb",
   "metadata": {},
   "source": [
    "### 키는 문자열 같은 리스트"
   ]
  },
  {
   "cell_type": "code",
   "execution_count": 184,
   "id": "7e083835",
   "metadata": {},
   "outputs": [
    {
     "name": "stdout",
     "output_type": "stream",
     "text": [
      "{'list_data1': [11, 12, 13], 'list_data2': [21, 22, 23]}\n",
      "key = list_data2 , value =  [21, 22, 23]\n"
     ]
    }
   ],
   "source": [
    "dict_data3 = {\"list_data1\":[11,12,13], \"list_data2\":[21,22,23]} # 리스트를 값으로 넣을 수 있음\n",
    "print(dict_data3)\n",
    "print(\"key = list_data2 , value = \",dict_data3[\"list_data2\"]) "
   ]
  },
  {
   "cell_type": "markdown",
   "id": "ce6dcd05",
   "metadata": {},
   "source": [
    "### 다양한 형태를 가지고 있는 딕셔너리"
   ]
  },
  {
   "cell_type": "code",
   "execution_count": 187,
   "id": "cb41a666",
   "metadata": {},
   "outputs": [
    {
     "data": {
      "text/plain": [
       "{1: 10,\n",
       " 'dict_num': {1: 10, 2: 20},\n",
       " 'dict_list_tuple': {'A': [11, 12, 13], 'B': (21, 22, 23)},\n",
       " 'dict_string': '이것은 책입니다.'}"
      ]
     },
     "execution_count": 187,
     "metadata": {},
     "output_type": "execute_result"
    }
   ],
   "source": [
    "mixed = {1:10, 'dict_num':{1:10, 2:20}, 'dict_list_tuple':{'A':[11,12,13], 'B':(21,22,23)},\"dict_string\":\"이것은 책입니다.\"}\n",
    "mixed"
   ]
  },
  {
   "cell_type": "markdown",
   "id": "97df5516",
   "metadata": {},
   "source": [
    "### 데이터 추가, 변경, 삭제"
   ]
  },
  {
   "cell_type": "code",
   "execution_count": 188,
   "id": "80ae5a0a",
   "metadata": {},
   "outputs": [
    {
     "data": {
      "text/plain": [
       "{'영국': '런던', '프랑스': '파리', '스위스': '베른', '호주': '멜버른', '덴마크': '코펜하겐', '독일': '베를린'}"
      ]
     },
     "execution_count": 188,
     "metadata": {},
     "output_type": "execute_result"
    }
   ],
   "source": [
    "country_capital['독일'] = '베를린' # 추가하기\n",
    "country_capital"
   ]
  },
  {
   "cell_type": "code",
   "execution_count": 189,
   "id": "f0833c3b",
   "metadata": {},
   "outputs": [
    {
     "data": {
      "text/plain": [
       "{'영국': '런던', '프랑스': '파리', '스위스': '베른', '호주': '캔버라', '덴마크': '코펜하겐', '독일': '베를린'}"
      ]
     },
     "execution_count": 189,
     "metadata": {},
     "output_type": "execute_result"
    }
   ],
   "source": [
    "country_capital['호주'] = '캔버라' # 변경\n",
    "country_capital"
   ]
  },
  {
   "cell_type": "code",
   "execution_count": 190,
   "id": "3546c472",
   "metadata": {},
   "outputs": [
    {
     "data": {
      "text/plain": [
       "{'영국': '런던', '프랑스': '파리', '스위스': '베른', '호주': '캔버라', '독일': '베를린'}"
      ]
     },
     "execution_count": 190,
     "metadata": {},
     "output_type": "execute_result"
    }
   ],
   "source": [
    "del country_capital['덴마크'] # 삭제 \n",
    "country_capital"
   ]
  },
  {
   "cell_type": "markdown",
   "id": "af802550",
   "metadata": {},
   "source": [
    "##### [삭제] 두번실행시 오류 keyError (삭제한 것을 또 삭제 불가!)"
   ]
  },
  {
   "cell_type": "code",
   "execution_count": 193,
   "id": "e950dd5d",
   "metadata": {},
   "outputs": [
    {
     "ename": "KeyError",
     "evalue": "'덴마크'",
     "output_type": "error",
     "traceback": [
      "\u001b[1;31m---------------------------------------------------------------------------\u001b[0m",
      "\u001b[1;31mKeyError\u001b[0m                                  Traceback (most recent call last)",
      "\u001b[1;32m~\\AppData\\Local\\Temp\\ipykernel_15544\\1629300286.py\u001b[0m in \u001b[0;36m<module>\u001b[1;34m\u001b[0m\n\u001b[1;32m----> 1\u001b[1;33m \u001b[1;32mdel\u001b[0m \u001b[0mcountry_capital\u001b[0m\u001b[1;33m[\u001b[0m\u001b[1;34m'덴마크'\u001b[0m\u001b[1;33m]\u001b[0m\u001b[1;33m\u001b[0m\u001b[1;33m\u001b[0m\u001b[0m\n\u001b[0m\u001b[0;32m      2\u001b[0m \u001b[0mcountry_capital\u001b[0m\u001b[1;33m\u001b[0m\u001b[1;33m\u001b[0m\u001b[0m\n",
      "\u001b[1;31mKeyError\u001b[0m: '덴마크'"
     ]
    }
   ],
   "source": [
    "del country_capital['덴마크'] \n",
    "country_capital"
   ]
  },
  {
   "cell_type": "markdown",
   "id": "843610f2",
   "metadata": {},
   "source": [
    "### 딕셔너리 메서드 활용하기"
   ]
  },
  {
   "cell_type": "code",
   "execution_count": 210,
   "id": "49c7cc19",
   "metadata": {},
   "outputs": [],
   "source": [
    "fruit_code = {\"사과\" : 101, \"배\" : 102, \"딸기\": 103, \"포도\" : 104, \"바나나\" : 105}"
   ]
  },
  {
   "cell_type": "code",
   "execution_count": 211,
   "id": "59d1a1fa",
   "metadata": {},
   "outputs": [
    {
     "name": "stdout",
     "output_type": "stream",
     "text": [
      "dict_keys(['사과', '배', '딸기', '포도', '바나나'])\n"
     ]
    }
   ],
   "source": [
    "print(fruit_code.keys()) # 딕셔너리에서 키 전체를 리스트 형태로 반환"
   ]
  },
  {
   "cell_type": "code",
   "execution_count": 212,
   "id": "595b8656",
   "metadata": {},
   "outputs": [
    {
     "name": "stdout",
     "output_type": "stream",
     "text": [
      "dict_values([101, 102, 103, 104, 105])\n"
     ]
    }
   ],
   "source": [
    "print(fruit_code.values()) # 딕셔너리에서 값 전체를 리스트 형태로 반환"
   ]
  },
  {
   "cell_type": "code",
   "execution_count": 213,
   "id": "da2560f0",
   "metadata": {},
   "outputs": [
    {
     "name": "stdout",
     "output_type": "stream",
     "text": [
      "dict_items([('사과', 101), ('배', 102), ('딸기', 103), ('포도', 104), ('바나나', 105)])\n"
     ]
    }
   ],
   "source": [
    "print(fruit_code.items()) # 키와 값을 (키, 값) 처럼 튜플 형태로 반환"
   ]
  },
  {
   "cell_type": "markdown",
   "id": "5db876e4",
   "metadata": {},
   "source": [
    "### 리스트로 변환"
   ]
  },
  {
   "cell_type": "code",
   "execution_count": 214,
   "id": "b8294151",
   "metadata": {},
   "outputs": [
    {
     "data": {
      "text/plain": [
       "['사과', '배', '딸기', '포도', '바나나']"
      ]
     },
     "execution_count": 214,
     "metadata": {},
     "output_type": "execute_result"
    }
   ],
   "source": [
    "list(fruit_code.keys())"
   ]
  },
  {
   "cell_type": "code",
   "execution_count": 215,
   "id": "f54c742b",
   "metadata": {},
   "outputs": [
    {
     "data": {
      "text/plain": [
       "[101, 102, 103, 104, 105]"
      ]
     },
     "execution_count": 215,
     "metadata": {},
     "output_type": "execute_result"
    }
   ],
   "source": [
    "list(fruit_code.values())"
   ]
  },
  {
   "cell_type": "code",
   "execution_count": 216,
   "id": "c57301bd",
   "metadata": {},
   "outputs": [
    {
     "data": {
      "text/plain": [
       "[('사과', 101), ('배', 102), ('딸기', 103), ('포도', 104), ('바나나', 105)]"
      ]
     },
     "execution_count": 216,
     "metadata": {},
     "output_type": "execute_result"
    }
   ],
   "source": [
    "list(fruit_code.items())"
   ]
  },
  {
   "cell_type": "markdown",
   "id": "4f046a85",
   "metadata": {},
   "source": [
    "### 데이터 추가"
   ]
  },
  {
   "cell_type": "code",
   "execution_count": 217,
   "id": "d3bd4b79",
   "metadata": {},
   "outputs": [],
   "source": [
    "fruit_code2 ={\"오렌지\":106, \"수박\":107}"
   ]
  },
  {
   "cell_type": "code",
   "execution_count": 218,
   "id": "c0481cd7",
   "metadata": {},
   "outputs": [
    {
     "data": {
      "text/plain": [
       "{'사과': 101, '배': 102, '딸기': 103, '포도': 104, '바나나': 105, '오렌지': 106, '수박': 107}"
      ]
     },
     "execution_count": 218,
     "metadata": {},
     "output_type": "execute_result"
    }
   ],
   "source": [
    "fruit_code.update(fruit_code2)\n",
    "fruit_code"
   ]
  },
  {
   "cell_type": "markdown",
   "id": "7aa96a47",
   "metadata": {},
   "source": [
    "#### 자몽을 같은 키로 넣을 수 없어서 키 = 자몽, 값 = 109로 들어감"
   ]
  },
  {
   "cell_type": "code",
   "execution_count": 219,
   "id": "5dc944d4",
   "metadata": {},
   "outputs": [],
   "source": [
    "fruit_code2 ={\"자몽\":108, \"자몽\":109}"
   ]
  },
  {
   "cell_type": "code",
   "execution_count": 220,
   "id": "a49f3ba0",
   "metadata": {},
   "outputs": [
    {
     "data": {
      "text/plain": [
       "{'사과': 101,\n",
       " '배': 102,\n",
       " '딸기': 103,\n",
       " '포도': 104,\n",
       " '바나나': 105,\n",
       " '오렌지': 106,\n",
       " '수박': 107,\n",
       " '자몽': 109}"
      ]
     },
     "execution_count": 220,
     "metadata": {},
     "output_type": "execute_result"
    }
   ],
   "source": [
    "fruit_code.update(fruit_code2)\n",
    "fruit_code"
   ]
  },
  {
   "cell_type": "markdown",
   "id": "fa8992be",
   "metadata": {},
   "source": [
    "### 삭제"
   ]
  },
  {
   "cell_type": "code",
   "execution_count": 221,
   "id": "4b8c0bbc",
   "metadata": {},
   "outputs": [
    {
     "name": "stdout",
     "output_type": "stream",
     "text": [
      "{}\n"
     ]
    },
    {
     "data": {
      "text/plain": [
       "dict"
      ]
     },
     "execution_count": 221,
     "metadata": {},
     "output_type": "execute_result"
    }
   ],
   "source": [
    "fruit_code2.clear()\n",
    "print(fruit_code2) # 삭제를 하면 딕셔너리 안의 내용만 사라짐~ 형태만 나옴, 변수는 남아있다.\n",
    "type(fruit_code2) "
   ]
  }
 ],
 "metadata": {
  "kernelspec": {
   "display_name": "Python 3 (ipykernel)",
   "language": "python",
   "name": "python3"
  },
  "language_info": {
   "codemirror_mode": {
    "name": "ipython",
    "version": 3
   },
   "file_extension": ".py",
   "mimetype": "text/x-python",
   "name": "python",
   "nbconvert_exporter": "python",
   "pygments_lexer": "ipython3",
   "version": "3.9.13"
  }
 },
 "nbformat": 4,
 "nbformat_minor": 5
}
